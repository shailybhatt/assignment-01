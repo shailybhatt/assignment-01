{
 "cells": [
  {
   "cell_type": "code",
   "execution_count": 2,
   "id": "5c35065f",
   "metadata": {},
   "outputs": [
    {
     "name": "stdout",
     "output_type": "stream",
     "text": [
      "0\n",
      "1\n",
      "1\n",
      "1\n",
      "2\n",
      "3\n",
      "5\n",
      "8\n",
      "13\n",
      "21\n",
      "34\n"
     ]
    }
   ],
   "source": [
    "# write a python program to get the fibonacci series between 0 to 50\n",
    "\n",
    "x , y = 0 , 1\n",
    "print(x)\n",
    "print(y)\n",
    "\n",
    "while y<50:\n",
    "    print(y)\n",
    "    x , y = y , x + y\n"
   ]
  },
  {
   "cell_type": "code",
   "execution_count": 4,
   "id": "679404e2",
   "metadata": {},
   "outputs": [
    {
     "name": "stdout",
     "output_type": "stream",
     "text": [
      "enter a string :Edyoda\n"
     ]
    },
    {
     "data": {
      "text/plain": [
       "'adoydE'"
      ]
     },
     "execution_count": 4,
     "metadata": {},
     "output_type": "execute_result"
    }
   ],
   "source": [
    "# write a python program to count the number of even and odd numbers from a series of numbers\n",
    "\n",
    "x = input(\"enter a string :\")\n",
    "x[::-1]"
   ]
  },
  {
   "cell_type": "code",
   "execution_count": 6,
   "id": "900106b1",
   "metadata": {},
   "outputs": [
    {
     "name": "stdout",
     "output_type": "stream",
     "text": [
      "number of even numbers : 4\n",
      "number of odd numbers : 5\n"
     ]
    }
   ],
   "source": [
    "# write a python program to count the number of even and odd numbers from a series of numbers.\n",
    "\n",
    "x = ( 1 , 2 , 3 , 4 , 5 , 6 , 7 , 8 , 9 )\n",
    "count_odd = 0\n",
    "count_even = 0\n",
    "for i in x:\n",
    "    if not i % 2:\n",
    "        count_even+=1\n",
    "    else:\n",
    "        count_odd+=1\n",
    "print(\"number of even numbers :\", count_even)\n",
    "print(\"number of odd numbers :\", count_odd)"
   ]
  },
  {
   "cell_type": "code",
   "execution_count": null,
   "id": "de0b3852",
   "metadata": {},
   "outputs": [],
   "source": []
  }
 ],
 "metadata": {
  "kernelspec": {
   "display_name": "Python 3 (ipykernel)",
   "language": "python",
   "name": "python3"
  },
  "language_info": {
   "codemirror_mode": {
    "name": "ipython",
    "version": 3
   },
   "file_extension": ".py",
   "mimetype": "text/x-python",
   "name": "python",
   "nbconvert_exporter": "python",
   "pygments_lexer": "ipython3",
   "version": "3.9.13"
  }
 },
 "nbformat": 4,
 "nbformat_minor": 5
}
